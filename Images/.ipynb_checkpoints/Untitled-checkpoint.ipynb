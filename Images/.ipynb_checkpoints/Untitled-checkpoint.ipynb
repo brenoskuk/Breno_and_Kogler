{
 "cells": [
  {
   "cell_type": "code",
   "execution_count": null,
   "metadata": {},
   "outputs": [],
   "source": [
    "# Programa para criar uma imagem contendo um degrade de tons de cinza\n",
    "#\n",
    "\n",
    "import Image\n",
    "\n",
    "# tamanho da imagem a ser criada\n",
    "width = 256\n",
    "height = 256\n",
    "\n",
    "# cria nova imagem e a preenche com degrade = media dos indices\n",
    "I = Image.new('L', [width,height])\n",
    "for i in range (width):\n",
    "    for j in range (height):\n",
    "        v=(i+j)/2\n",
    "        I.putpixel((i,j),v)\n",
    "        \n",
    "I.show()\n"
   ]
  }
 ],
 "metadata": {
  "kernelspec": {
   "display_name": "Python 3",
   "language": "python",
   "name": "python3"
  },
  "language_info": {
   "codemirror_mode": {
    "name": "ipython",
    "version": 3
   },
   "file_extension": ".py",
   "mimetype": "text/x-python",
   "name": "python",
   "nbconvert_exporter": "python",
   "pygments_lexer": "ipython3",
   "version": "3.7.0"
  }
 },
 "nbformat": 4,
 "nbformat_minor": 2
}
